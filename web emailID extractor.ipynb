{
 "cells": [
  {
   "cell_type": "code",
   "execution_count": 1,
   "metadata": {},
   "outputs": [
    {
     "name": "stdout",
     "output_type": "stream",
     "text": [
      "Requirement already satisfied: urllib3 in c:\\users\\klaus\\anaconda3\\lib\\site-packages (1.24.1)\n",
      "Note: you may need to restart the kernel to use updated packages.\n"
     ]
    }
   ],
   "source": [
    "#first step is installing all the requirements. \n",
    "#pip install urllib3\n",
    "#pip install requests\n",
    "#pip install beautifulsoup4"
   ]
  },
  {
   "cell_type": "code",
   "execution_count": 2,
   "metadata": {},
   "outputs": [],
   "source": [
    "\n",
    "#import packages\n",
    "from bs4 import BeautifulSoup\n",
    "import requests\n",
    "import requests.exceptions\n",
    "from urllib.parse import urlsplit\n",
    "from collections import deque\n",
    "import re\n"
   ]
  },
  {
   "cell_type": "code",
   "execution_count": 3,
   "metadata": {},
   "outputs": [
    {
     "name": "stdout",
     "output_type": "stream",
     "text": [
      "Processing https://en.wikipedia.org/wiki/Email_address\n"
     ]
    }
   ],
   "source": [
    "new_urls = deque(['https://en.wikipedia.org/wiki/Email_address'])\n",
    "processed_urls = set()\n",
    "\n",
    "# a set of crawled emails\n",
    "emails = set()\n",
    "\n",
    "# process urls one by one until we exhaust the queue\n",
    "while len(new_urls):\n",
    "    # move next url from the queue to the set of processed urls\n",
    "    url = new_urls.popleft()\n",
    "    processed_urls.add(url)\n",
    "    # get url's content\n",
    "    print(\"Processing %s\" % url)\n",
    "    try:\n",
    "        response = requests.get(url)\n",
    "    except (requests.exceptions.MissingSchema, requests.exceptions.ConnectionError):\n",
    "        # ignore pages with errors \n",
    "        continue\n",
    "        \n",
    "        # extract base url and path to resolve relative links\n",
    "parts = urlsplit(url)\n",
    "base_url = \"{0.scheme}://{0.netloc}\".format(parts)\n",
    "path = url[:url.rfind('/')+1] if '/' in parts.path else url"
   ]
  },
  {
   "cell_type": "code",
   "execution_count": 4,
   "metadata": {},
   "outputs": [],
   "source": [
    "# extract all email addresses and add them into the resulting set \n",
    "new_emails = set(re.findall(r\"[a-z0-9\\.\\-+_]+@[a-z0-9\\.\\-+_]+\\.[a-z]+\", response.text, re.I))\n",
    "emails.update(new_emails)\n",
    "# create a beutiful soup for the html document\n",
    "soup = BeautifulSoup(response.text)\n",
    "\n",
    "# find and process all the anchors in the document\n",
    "for anchor in soup.find_all(\"a\"):\n",
    "    # extract link url from the anchor\n",
    "    link = anchor.attrs[\"href\"] if \"href\" in anchor.attrs else ''\n",
    "    # resolve relative links\n",
    "    if link.startswith('/'):\n",
    "        link = base_url + link\n",
    "    elif not link.startswith('http'):\n",
    "        link = path + link\n",
    "    # add the new url to the queue if it was not enqueued nor processed yet\n",
    "    if not link in new_urls and not link in processed_urls:\n",
    "        new_urls.append(link)\n",
    "        \n",
    "        \n",
    "        "
   ]
  },
  {
   "cell_type": "code",
   "execution_count": 5,
   "metadata": {},
   "outputs": [
    {
     "name": "stdout",
     "output_type": "stream",
     "text": [
      "foobar@example.com\n",
      "JSmith@example.com\n",
      "user-@example.org\n",
      "other.email-with-hyphen@example.com\n",
      "x@example.com\n",
      "1234567890123456789012345678901234567890123456789012345678901234+x@example.com\n",
      "right@example.com\n",
      "c@example.com\n",
      "user@example.com\n",
      "fully-qualified-domain@example.com\n",
      "john.smith@example.org\n",
      "disposable.style.email.with+symbol@example.com\n",
      "example@s.example\n",
      "l@example.com\n",
      "simple@example.com\n",
      "i_like_underscore@but_its_not_allowed_in_this_part.example.com\n",
      "joeuser@example.com\n",
      "myaddress+extension@pobox.com\n",
      "very.common@example.com\n",
      "user.name+tag+sorting@example.com\n",
      "example.com@example.org\n",
      "test@test.com\n",
      "jsmith@example.com\n",
      "example-indeed@strange-example.com\n",
      "user.name@example.com\n",
      "username@example.org\n",
      "foo+bar@example.com\n",
      "john.smith@example.com\n",
      "joeuser+tag@example.com\n",
      "John..Doe@example.com\n",
      "allowed@example.com\n",
      "20name+tag@domain.com\n"
     ]
    }
   ],
   "source": [
    "for email in emails:\n",
    "    print(email)"
   ]
  },
  {
   "cell_type": "code",
   "execution_count": null,
   "metadata": {},
   "outputs": [],
   "source": []
  }
 ],
 "metadata": {
  "kernelspec": {
   "display_name": "Python 3",
   "language": "python",
   "name": "python3"
  },
  "language_info": {
   "codemirror_mode": {
    "name": "ipython",
    "version": 3
   },
   "file_extension": ".py",
   "mimetype": "text/x-python",
   "name": "python",
   "nbconvert_exporter": "python",
   "pygments_lexer": "ipython3",
   "version": "3.7.3"
  }
 },
 "nbformat": 4,
 "nbformat_minor": 2
}
